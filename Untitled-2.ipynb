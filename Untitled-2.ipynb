{
 "cells": [
  {
   "cell_type": "code",
   "execution_count": null,
   "metadata": {},
   "outputs": [],
   "source": [
    "from collections import Counter\n",
    "\n",
    "files = ['emoji_smile.jpeg', 'city-of-the-sun.mp3', 'dhook_hw.json', 'sample.xml',\n",
    "         'teamspeak3.exe', 'project_module3.py', 'math_lesson3.mp4', 'old_memories.mp4',\n",
    "         'spiritfarer.exe', 'backups.json', 'python_for_beg1.mp4', 'emoji_angry.jpeg',\n",
    "         'exam_results.csv', 'project_main.py', 'classes.csv', 'plants.xml',\n",
    "         'cant-help-myself.mp3', 'microsoft_edge.exe', 'steam.exe', 'math_lesson4.mp4',\n",
    "         'city.jpeg', 'bad-disease.mp3', 'beauty.jpeg', 'hollow_knight_silksong.exe',\n",
    "         'whatsapp.exe', 'photoshop.exe', 'telegram.exe', 'yandex_browser.exe',\n",
    "         'math_lesson7.mp4', 'students.csv', 'emojis.zip', '7z.zip',\n",
    "         'bones.mp3', 'python3.zip', 'dhook_lsns.json', 'carl_backups.json',\n",
    "         'forest.jpeg', 'python_for_pro8.mp4', 'yandexdisc.exe', 'but-you.mp3',\n",
    "         'project_module1.py', 'nothing.xml', 'flowers.jpeg', 'grades.csv',\n",
    "         'nvidia_gf.exe', 'small_txt.zip', 'project_module2.py', 'tab.csv',\n",
    "         'note.xml', 'sony_vegas11.exe', 'friends.jpeg', 'data.pkl']\n",
    "formats = [el.split('.')[1] for el in files]\n",
    "counter = Counter(formats)\n",
    "for k, v in sorted(counter.items()):\n",
    "    print(f'{k}: {v}')"
   ]
  },
  {
   "cell_type": "code",
   "execution_count": null,
   "metadata": {},
   "outputs": [],
   "source": [
    "from collections import Counter\n",
    "\n",
    "goods = \"Поколение Python: курс для профессионалов\".split()\n",
    "counter = Counter(goods)\n",
    "for k, v in sorted(counter.items()):\n",
    "    price = sum([ord(word) for word in k if word != ' '])\n",
    "    print(f'{k.ljust(len(max(goods, key = len)))}: {price} UC x {v} = {price*v} UC')\n"
   ]
  },
  {
   "cell_type": "code",
   "execution_count": null,
   "metadata": {},
   "outputs": [],
   "source": [
    "from collections import Counter\n",
    "\n",
    "data = Counter('aksjaskfjsklfjdslkfjajfopewtoieqpwdpqworiiqjskanvmcxbmpewrqopkqwlmdzczmxvmvlnjpjqpkqzxvmbowiqeorewi')\n",
    "#print(data.items())\n",
    "data.min_values = lambda: [(k, v) for k, v in data.items() if v == min(data.values())]\n",
    "data.max_values = lambda: [(k, v) for k, v in data.items() if v == max(data.values())]\n",
    "print(data.max_values())\n",
    "'''\n",
    "Внутри функции перебери пары (ключ: значение), и выведи пары (ключ, значение), которые равны минимуму или макксимуму, в зависимости от функции\n",
    "'''"
   ]
  },
  {
   "cell_type": "code",
   "execution_count": null,
   "metadata": {},
   "outputs": [],
   "source": [
    "from collections import Counter\n",
    "import csv\n",
    "\n",
    "with open(r'C:\\Users\\User\\Downloads\\name_log.csv', encoding = 'utf-8') as file:\n",
    "    rows = [el[1] for el in csv.reader(file)][1:]\n",
    "    for k, v in sorted(Counter(rows).items()):\n",
    "        print(f'{k}: {v}')"
   ]
  },
  {
   "cell_type": "code",
   "execution_count": null,
   "metadata": {},
   "outputs": [],
   "source": [
    "import requests\n",
    "\n",
    "response = requests.get('https://www.digitalocean.com/community/tutorials/how-to-get-started-with-the-requests-library-in-python-ru#python-requests') # get-запрос\n",
    "print([el for el in response.text if el.isalpha()])"
   ]
  },
  {
   "cell_type": "code",
   "execution_count": 77,
   "metadata": {},
   "outputs": [
    {
     "name": "stdout",
     "output_type": "stream",
     "text": [
      "924593\n"
     ]
    }
   ],
   "source": [
    "from collections import Counter, defaultdict\n",
    "import csv\n",
    "import json\n",
    "\n",
    "with open(r'C:\\Users\\User\\Downloads\\quarter1.csv', encoding = 'utf-8') as q1, \\\n",
    "     open(r'C:\\Users\\User\\Downloads\\quarter2.csv', encoding = 'utf-8') as q2, \\\n",
    "     open(r'C:\\Users\\User\\Downloads\\quarter3.csv', encoding = 'utf-8') as q3, \\\n",
    "     open(r'C:\\Users\\User\\Downloads\\quarter4.csv', encoding = 'utf-8') as q4, \\\n",
    "     open(r'C:\\Users\\User\\Downloads\\prices.json', encoding = 'utf-8') as json_file:\n",
    "    year, income_dict = [q1, q2, q3, q4], defaultdict(int)\n",
    "   \n",
    "    for q in year:\n",
    "        for el in list(csv.reader(q))[1:]:\n",
    "            income_dict[el[0]] += sum([int(i) for i in el[1:]])\n",
    "    prices = json.load(json_file)\n",
    "    for k, v in prices.items():\n",
    "        income_dict[k] = income_dict[k] * v\n",
    "    print(sum(income_dict.values()))"
   ]
  }
 ],
 "metadata": {
  "kernelspec": {
   "display_name": "Python 3.10.0 64-bit",
   "language": "python",
   "name": "python3"
  },
  "language_info": {
   "codemirror_mode": {
    "name": "ipython",
    "version": 3
   },
   "file_extension": ".py",
   "mimetype": "text/x-python",
   "name": "python",
   "nbconvert_exporter": "python",
   "pygments_lexer": "ipython3",
   "version": "3.10.0"
  },
  "orig_nbformat": 4,
  "vscode": {
   "interpreter": {
    "hash": "afb734500600fd355917ca529030176ea0ca205570884b88f2f6f7d791fd3fbe"
   }
  }
 },
 "nbformat": 4,
 "nbformat_minor": 2
}
